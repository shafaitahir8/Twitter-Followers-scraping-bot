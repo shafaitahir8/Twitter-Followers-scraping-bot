{
 "cells": [
  {
   "cell_type": "code",
   "execution_count": null,
   "id": "542b31e8",
   "metadata": {},
   "outputs": [],
   "source": [
    "# Selenium Imports\n",
    "from selenium import webdriver\n",
    "from selenium.webdriver.common.keys import Keys\n",
    "from selenium.webdriver.support import expected_conditions as EC\n",
    "from selenium.webdriver.common.by import By\n",
    "from selenium.webdriver.support.wait import WebDriverWait\n",
    "from selenium.webdriver.common.action_chains import ActionChains\n",
    "from selenium.webdriver.remote.webelement import WebElement\n",
    "from time import sleep\n",
    "import winsound\n",
    "\n",
    "# Other imports here\n",
    "import os\n",
    "import numpy as np\n",
    "import pandas as pd\n",
    "import time\n",
    "import re\n",
    "from IPython.display import clear_output\n",
    "import pyautogui"
   ]
  },
  {
   "cell_type": "markdown",
   "id": "9e4a9ae8",
   "metadata": {},
   "source": [
    "# Fill the cell below"
   ]
  },
  {
   "cell_type": "code",
   "execution_count": null,
   "id": "c546f9e2",
   "metadata": {},
   "outputs": [],
   "source": [
    "username = ''\n",
    "password = ''\n",
    "\n",
    "#Enter link of user\n",
    "\n",
    "link = ''\n",
    "\n",
    "fof = input('[1] Get Followers\\n[2]Get Following\\n')"
   ]
  },
  {
   "cell_type": "code",
   "execution_count": null,
   "id": "907791f9",
   "metadata": {},
   "outputs": [],
   "source": [
    "# Declare a Dataframe to store the usernames and comments\n",
    "data = {\n",
    "    'username':[],\n",
    "    'handles':[],\n",
    "    'caption':[],\n",
    "}\n",
    "\n",
    "df = pd.DataFrame(data)\n",
    "cids = []"
   ]
  },
  {
   "cell_type": "code",
   "execution_count": null,
   "id": "ea769606",
   "metadata": {},
   "outputs": [],
   "source": [
    "def login_toTwitter(username,password):\n",
    "    driver.get('https://twitter.com/')\n",
    "    time.sleep(2)\n",
    "    driver.maximize_window()\n",
    "    #open twitter and login\n",
    "    #click login button\n",
    "    driver.find_element(By.XPATH,'//*[@id=\"react-root\"]/div/div/div[2]/main/div/div/div[1]/div[1]/div/div[3]/div[5]/a/div').click()\n",
    "    time.sleep(3)\n",
    "    #click the search box\n",
    "    driver.find_element(By.XPATH,'//*[@id=\"layers\"]/div[2]/div/div/div/div/div/div[2]/div[2]/div/div/div[2]/div[2]/div/div/div/div[5]/label/div/div[2]/div/input').click()\n",
    "    #Input the username\n",
    "    driver.find_element(By.XPATH,'//*[@id=\"layers\"]/div[2]/div/div/div/div/div/div[2]/div[2]/div/div/div[2]/div[2]/div/div/div/div[5]/label/div/div[2]/div/input').send_keys(username)\n" ,
    "    #submit\n",
    "    driver.find_element(By.XPATH,'//*[@id=\"layers\"]/div[2]/div/div/div/div/div/div[2]/div[2]/div/div/div[2]/div[2]/div/div/div/div[6]/div').click()\n",
    "    time.sleep(3)\n",
    "    #Click the password box\n",
    "    driver.find_element(By.XPATH,'//*[@id=\"layers\"]/div[2]/div/div/div/div/div/div[2]/div[2]/div/div/div[2]/div[2]/div[1]/div/div/div[3]/div/label/div/div[2]/div[1]/input').click()\n",
    "    #Input password\n",
    "    driver.find_element(By.XPATH,'//*[@id=\"layers\"]/div[2]/div/div/div/div/div/div[2]/div[2]/div/div/div[2]/div[2]/div[1]/div/div/div[3]/div/label/div/div[2]/div[1]/input').send_keys(password)\n",
    "    #submit\n",
    "    driver.find_element(By.XPATH,'//*[@id=\"layers\"]/div[2]/div/div/div/div/div/div[2]/div[2]/div/div/div[2]/div[2]/div[2]/div/div[1]/div/div/div').click()\n",
    "    time.sleep(3)"
   ]
  },
  {
   "cell_type": "code",
   "execution_count": null,
   "id": "d641c9ae",
   "metadata": {},
   "outputs": [],
   "source": [
    "# initialize 'Chrome Driver' and run it    \n",
    "driver = webdriver.Chrome('F:/downloood/chromedriver.exe')\n",
    "a = ActionChains(driver)\n",
    "\n",
    "#log in to twitter\n",
    "login_toTwitter(username,password)\n",
    "time.sleep(3)\n",
    "\n",
    "#navigate to the profile \n",
    "driver.get(link)\n",
    "time.sleep(2)\n",
    "\n",
    "\n",
    "if fof == '1':\n",
    "    followCount = driver.find_element(By.XPATH,'//*[@id=\"react-root\"]/div/div/div[2]/main/div/div/div/div/div/div[2]/div/div/div/div/div[5]/div[2]/a/span[1]/span').text\n",
    "    if 'M' in followCount:\n",
    "        followCount = (re.sub(\"[^0-9]\", \"\",followCount))\n",
    "        followCount = int(followCount + '00000')\n",
    "    else:\n",
    "        followCount = int(re.sub(\"[^0-9]\", \"\",followCount))\n",
    "        driver.get(link+'/followers')\n",
    "    \n",
    "else:\n",
    "    if fof=='2':\n",
    "        followCount = driver.find_element(By.XPATH,'//*[@id=\"react-root\"]/div/div/div[2]/main/div/div/div/div[1]/div/div[2]/div/div/div/div[2]/div[5]/div[1]/a/span[1]/span').text\n",
    "        followCount = int(re.sub(\"[^0-9]\", \"\",followCount))\n",
    "        driver.get(link+'/following')"
   ]
  },
  {
   "cell_type": "code",
   "execution_count": null,
   "id": "2d1f66d7",
   "metadata": {},
   "outputs": [],
   "source": [
    "def foloInfoo(card):                                            \n",
    "        \n",
    "#handle\n",
    "    try:\n",
    "        handle = card.find_element(By.XPATH,'./div/div/div/div/div[2]/div[1]/div[1]/div/div[2]/div/a/div/div/span').text\n",
    "    except:\n",
    "        handle = 'Not Found'\n",
    "#username\n",
    "    try:    \n",
    "        username = card.find_element(By.XPATH,'./div/div/div/div/div[2]/div[1]/div[1]/div/div[1]').text\n",
    "    except:\n",
    "        username = 'Not Found'\n",
    "#caption\n",
    "    try:                          \n",
    "        x = card.find_element(By.XPATH,'./div/div/div/div/div[2]/div[2]')                                    \n",
    "        z= (x.text).split('\\n')\n",
    "        caption = ' '.join(z)\n",
    "    except:\n",
    "        caption = 'Not Found'\n",
    "        \n",
    "    return (str(username),str(handle),str(caption))"
   ]
  },
  {
   "cell_type": "code",
   "execution_count": null,
   "id": "a9af7116",
   "metadata": {},
   "outputs": [],
   "source": [
    "time.sleep(3)"
   ]
  },
  {
   "cell_type": "code",
   "execution_count": null,
   "id": "f64fdfd2",
   "metadata": {},
   "outputs": [],
   "source": [
    "strike=t=n=b=scrolled=0\n",
    "l=30\n",
    "\n",
    "k=2\n",
    "html = driver.find_element(By.XPATH,'//body')\n",
    "\n",
    "while len(df)<=followCount:\n",
    "\n",
    "    cards = driver.find_elements(By.XPATH,'//*[@id=\"react-root\"]/div/div/div[2]/main/div/div/div/div[1]/div/section/div/div/div')                                     \n",
    "    if(n==len(df)):\n",
    "        strike = strike+1\n",
    "        if strike==5:\n",
    "            break\n",
    "    n = len(df)\n",
    "    for card in cards:\n",
    "        try:\n",
    "            cid =''.join(card.text[0:10])\n",
    "            last_cid = cid\n",
    "        except:\n",
    "            cid = last_cid\n",
    "        \n",
    "        if cid not in cids:   \n",
    "            cids.append(cid)\n",
    "            s = foloInfoo(card)\n",
    "            if ((s[0]!='Not Found') & (s[1]!='Not Found')):\n",
    "                df.loc[len(df)] = s\n",
    "\n",
    "    html.send_keys(Keys.PAGE_DOWN)\n",
    "    html.send_keys(Keys.PAGE_DOWN)\n",
    "    html.send_keys(Keys.PAGE_DOWN)\n",
    "    time.sleep(1)\n",
    "\n",
    "    clear_output()\n",
    "    print(df.iloc[-20:], '\\n')   \n",
    "    \n",
    "    scrolled = scrolled + 1\n",
    "    print('scrolled: ',scrolled )\n",
    "    cards = []\n"
   ]
  },
  {
   "cell_type": "code",
   "execution_count": null,
   "id": "11d5320f",
   "metadata": {},
   "outputs": [],
   "source": [
    "df.to_csv('followData.csv')"
   ]
  },
  {
   "cell_type": "code",
   "execution_count": null,
   "id": "ac2551be",
   "metadata": {},
   "outputs": [],
   "source": []
  },
  {
   "cell_type": "code",
   "execution_count": null,
   "id": "0f5cb66c",
   "metadata": {},
   "outputs": [],
   "source": []
  }
 ],
 "metadata": {
  "kernelspec": {
   "display_name": "Python 3 (ipykernel)",
   "language": "python",
   "name": "python3"
  },
  "language_info": {
   "codemirror_mode": {
    "name": "ipython",
    "version": 3
   },
   "file_extension": ".py",
   "mimetype": "text/x-python",
   "name": "python",
   "nbconvert_exporter": "python",
   "pygments_lexer": "ipython3",
   "version": "3.9.12"
  }
 },
 "nbformat": 4,
 "nbformat_minor": 5
}
